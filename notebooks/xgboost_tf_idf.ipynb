{
 "cells": [
  {
   "cell_type": "code",
   "execution_count": 1,
   "id": "c9d65a2b",
   "metadata": {},
   "outputs": [
    {
     "name": "stderr",
     "output_type": "stream",
     "text": [
      "[nltk_data] Downloading package punkt to\n",
      "[nltk_data]     C:\\Users\\timmy_maks\\AppData\\Roaming\\nltk_data...\n",
      "[nltk_data]   Package punkt is already up-to-date!\n"
     ]
    },
    {
     "data": {
      "text/plain": [
       "True"
      ]
     },
     "execution_count": 1,
     "metadata": {},
     "output_type": "execute_result"
    }
   ],
   "source": [
    "import nltk\n",
    "import string\n",
    "import re\n",
    "import pickle\n",
    "import pandas as pd\n",
    "import numpy as np\n",
    "import matplotlib.pyplot as plt\n",
    "import seaborn as sns\n",
    "# import enchant\n",
    "\n",
    "from nltk.corpus import stopwords\n",
    "from nltk.tokenize import word_tokenize\n",
    "from nltk.util import ngrams\n",
    "from pymorphy2 import MorphAnalyzer\n",
    "from autocorrect import Speller\n",
    "\n",
    "\n",
    "nltk.download('punkt')"
   ]
  },
  {
   "cell_type": "code",
   "execution_count": null,
   "id": "92683566",
   "metadata": {},
   "outputs": [],
   "source": [
    "data = pd.read_csv(\"data.csv\")"
   ]
  },
  {
   "cell_type": "code",
   "execution_count": 3,
   "id": "5569ab98",
   "metadata": {},
   "outputs": [
    {
     "data": {
      "text/html": [
       "<div>\n",
       "<style scoped>\n",
       "    .dataframe tbody tr th:only-of-type {\n",
       "        vertical-align: middle;\n",
       "    }\n",
       "\n",
       "    .dataframe tbody tr th {\n",
       "        vertical-align: top;\n",
       "    }\n",
       "\n",
       "    .dataframe thead th {\n",
       "        text-align: right;\n",
       "    }\n",
       "</style>\n",
       "<table border=\"1\" class=\"dataframe\">\n",
       "  <thead>\n",
       "    <tr style=\"text-align: right;\">\n",
       "      <th></th>\n",
       "      <th>appeal_text</th>\n",
       "      <th>category_name</th>\n",
       "    </tr>\n",
       "  </thead>\n",
       "  <tbody>\n",
       "    <tr>\n",
       "      <th>0</th>\n",
       "      <td>подъезд этаж в коридоре над висит какой то пр...</td>\n",
       "      <td>11</td>\n",
       "    </tr>\n",
       "    <tr>\n",
       "      <th>1</th>\n",
       "      <td>маленькмй лифт изрисован внутри</td>\n",
       "      <td>11</td>\n",
       "    </tr>\n",
       "    <tr>\n",
       "      <th>2</th>\n",
       "      <td>реклама на светофоре</td>\n",
       "      <td>0</td>\n",
       "    </tr>\n",
       "    <tr>\n",
       "      <th>3</th>\n",
       "      <td>подъезд этаж квартирный холл рааботники тсж л...</td>\n",
       "      <td>11</td>\n",
       "    </tr>\n",
       "    <tr>\n",
       "      <th>4</th>\n",
       "      <td>незаконная решетка на фасаде</td>\n",
       "      <td>5</td>\n",
       "    </tr>\n",
       "  </tbody>\n",
       "</table>\n",
       "</div>"
      ],
      "text/plain": [
       "                                         appeal_text  category_name\n",
       "0   подъезд этаж в коридоре над висит какой то пр...             11\n",
       "1                   маленькмй лифт изрисован внутри              11\n",
       "2                               реклама на светофоре              0\n",
       "3   подъезд этаж квартирный холл рааботники тсж л...             11\n",
       "4                       незаконная решетка на фасаде              5"
      ]
     },
     "execution_count": 3,
     "metadata": {},
     "output_type": "execute_result"
    }
   ],
   "source": [
    "data.head()"
   ]
  },
  {
   "cell_type": "markdown",
   "id": "c76dd933",
   "metadata": {},
   "source": [
    "# Preprocess"
   ]
  },
  {
   "cell_type": "markdown",
   "id": "05c4465c",
   "metadata": {},
   "source": [
    "**Regular expressions to delete symbols**"
   ]
  },
  {
   "cell_type": "code",
   "execution_count": 165,
   "id": "59d56bcc",
   "metadata": {},
   "outputs": [],
   "source": [
    "pattern = \"[A-Za-z0-9!#№$%&'()*+,./:;<=>?@[\\]^_`{|}~—\\\"\\-]+\"\n",
    "emoji_pattern = re.compile(\"[\"\n",
    "        u\"\\U0001F600-\\U0001F64F\"  # emoticons\n",
    "        u\"\\U0001F300-\\U0001F5FF\"  # symbols & pictographs\n",
    "        u\"\\U0001F680-\\U0001F6FF\"  # transport & map symbols\n",
    "        u\"\\U0001F1E0-\\U0001F1FF\"  # flags (iOS)\n",
    "        u\"\\U00002500-\\U00002BEF\"  # chinese char\n",
    "        u\"\\U00002702-\\U000027B0\"\n",
    "        u\"\\U00002702-\\U000027B0\"\n",
    "        u\"\\U000024C2-\\U0001F251\"\n",
    "        u\"\\U0001f926-\\U0001f937\"\n",
    "        u\"\\U00010000-\\U0010ffff\"\n",
    "        u\"\\u2640-\\u2642\" \n",
    "        u\"\\u2600-\\u2B55\"\n",
    "        u\"\\u200d\"\n",
    "        u\"\\u23cf\"\n",
    "        u\"\\u23e9\"\n",
    "        u\"\\u231a\"\n",
    "        u\"\\ufe0f\"  # dingbats\n",
    "        u\"\\u3030\"\n",
    "        \"]+\", re.UNICODE)"
   ]
  },
  {
   "cell_type": "markdown",
   "id": "46c402ac",
   "metadata": {},
   "source": [
    "**Stop words**"
   ]
  },
  {
   "cell_type": "code",
   "execution_count": 166,
   "id": "47e5b3ca",
   "metadata": {},
   "outputs": [],
   "source": [
    "rus_stop_words = stopwords.words(\"russian\")"
   ]
  },
  {
   "cell_type": "markdown",
   "id": "25a9246d",
   "metadata": {},
   "source": [
    "**Words that do not carry a semantic load**"
   ]
  },
  {
   "cell_type": "code",
   "execution_count": 167,
   "id": "301b1ab4",
   "metadata": {},
   "outputs": [],
   "source": [
    "my_stop_words = ['просить', 'санкт', 'петербург', 'фотофиксация', 'прилагаться', 'номер', 'спасибо', 'пожалуйста', 'здравствуйте', \n",
    "                 'добрый', 'день', 'ул', 'рф', 'россия', 'правительство', 'управлять', 'компания', 'суворовский',\n",
    "                 'литовский', 'далее', 'закон', 'тсж', 'председатель', 'этаж', 'ленинградские', \n",
    "                 'отказываться', 'принимать', 'заявку', 'на', 'устранение', 'более', 'полугода']\n",
    "\n",
    "districts_names = ['адмиралтейский', 'василеостровский', 'выборгский', 'калининский', 'кировский', 'колпинский',\n",
    "             'красногвардейский', 'красносельский', 'кронштадтский', 'курортный', 'московский', 'невский',\n",
    "             'петроградский', 'петродворцовый', 'приморский', 'пушкинский', 'фрунзенский', 'центральный']\n",
    "\n",
    "my_stop_words += districts_names"
   ]
  },
  {
   "cell_type": "markdown",
   "id": "dd939082",
   "metadata": {},
   "source": [
    "**Autocorrection of errors in words**"
   ]
  },
  {
   "cell_type": "code",
   "execution_count": 168,
   "id": "9522a857",
   "metadata": {},
   "outputs": [],
   "source": [
    "spell = Speller('ru')"
   ]
  },
  {
   "cell_type": "markdown",
   "id": "097e9e0f",
   "metadata": {},
   "source": [
    "**Lemmatizator**"
   ]
  },
  {
   "cell_type": "code",
   "execution_count": 169,
   "id": "6e1588a7",
   "metadata": {},
   "outputs": [],
   "source": [
    "morph = MorphAnalyzer()"
   ]
  },
  {
   "cell_type": "markdown",
   "id": "03b96ef5",
   "metadata": {},
   "source": [
    "**Preprocess function**"
   ]
  },
  {
   "cell_type": "code",
   "execution_count": 170,
   "id": "91b7eda4",
   "metadata": {},
   "outputs": [],
   "source": [
    "def tokenize_sentence(sentence):\n",
    "    sentence = re.sub(emoji_pattern, ' ', sentence) # deleting emojis\n",
    "    sentence = re.sub(pattern, ' ', sentence) # deletung symbols\n",
    "    sentence = sentence.lower() # to lower\n",
    "    sentence = spell(sentence) # autocorrection of errors\n",
    "    tokens = word_tokenize(sentence, language='russian') # tokenization\n",
    "    tokens = [i for i in tokens if i not in rus_stop_words] # deleting stop words\n",
    "    tokens = [i for i in tokens if i not in my_stop_words] # deleting my stop words\n",
    "    tokens = [morph.normal_forms(token)[0] for token in tokens] # lemmatization\n",
    "    tokens = [i for i in tokens if len(i) > 1] # deleting words (len(word) < 2)\n",
    "    return tokens"
   ]
  },
  {
   "cell_type": "markdown",
   "id": "2c29d9ac",
   "metadata": {},
   "source": [
    "**Clear and tokenize dataset**"
   ]
  },
  {
   "cell_type": "code",
   "execution_count": 171,
   "id": "61298e2b",
   "metadata": {},
   "outputs": [
    {
     "name": "stdout",
     "output_type": "stream",
     "text": [
      "CPU times: total: 25min 44s\n",
      "Wall time: 25min 47s\n"
     ]
    }
   ],
   "source": [
    "%%time\n",
    "tokenized_data = data.loc[:, ['appeal_text', 'category_name']]\n",
    "tokenized_data[\"appeal_text\"] = tokenized_data[\"appeal_text\"].apply(tokenize_sentence)\n",
    "tokenized_data.to_csv(\"tokenized_data.csv\", index=False, header=True, encoding=\"utf-8-sig\")"
   ]
  },
  {
   "cell_type": "code",
   "execution_count": 2,
   "id": "300846d9",
   "metadata": {},
   "outputs": [],
   "source": [
    "# import ast\n",
    "# tokenized_data = pd.read_csv(\"tokenized_data.csv\")\n",
    "# tokenized_data['appeal_text'] = tokenized_data['appeal_text'].apply(lambda x: ast.literal_eval(x))"
   ]
  },
  {
   "cell_type": "markdown",
   "id": "d9efaecc",
   "metadata": {},
   "source": [
    "**Join lists in string**"
   ]
  },
  {
   "cell_type": "code",
   "execution_count": 3,
   "id": "0e920376",
   "metadata": {},
   "outputs": [],
   "source": [
    "cleared_data = tokenized_data.copy()\n",
    "for i in range(cleared_data.shape[0]):\n",
    "    cleared_data.iloc[i, 0] = \" \".join(cleared_data.iloc[i, 0])"
   ]
  },
  {
   "cell_type": "markdown",
   "id": "ffc1e714",
   "metadata": {},
   "source": [
    "**Calculate the number of occurrences of each word in the all appeals**"
   ]
  },
  {
   "cell_type": "code",
   "execution_count": 4,
   "id": "ea21fff5",
   "metadata": {},
   "outputs": [],
   "source": [
    "def counter(texts):\n",
    "    count = {}\n",
    "    for list_element in texts:\n",
    "        for element in list_element:\n",
    "            if count.get(element, None):\n",
    "                count[element] += 1\n",
    "            else:\n",
    "                count[element] = 1\n",
    "            \n",
    "    sorted_values = sorted(count.items(), key=lambda tpl: tpl[1], reverse=True)\n",
    "    return dict(sorted_values)"
   ]
  },
  {
   "cell_type": "code",
   "execution_count": 5,
   "id": "4cbc3619",
   "metadata": {},
   "outputs": [],
   "source": [
    "count_words = counter(list(tokenized_data.iloc[:, 0]))"
   ]
  },
  {
   "cell_type": "code",
   "execution_count": 6,
   "id": "c935b30f",
   "metadata": {},
   "outputs": [
    {
     "name": "stdout",
     "output_type": "stream",
     "text": [
      "10 most rare words: ['тить', 'тесто', 'спорить', 'смота', 'отлов', 'относить', 'пропитка', 'сампо', 'сош', 'малюсенький']\n",
      "5 most frequent words: ['мусор', 'дом', 'парадный', 'просить', 'убрать', 'этаж', 'подъезд', 'надпись', 'уборка', 'дверь']\n"
     ]
    }
   ],
   "source": [
    "print(f\"10 most rare words: {list(count_words.keys())[-10:]}\")\n",
    "print(f\"5 most frequent words: {list(count_words.keys())[:10]}\")"
   ]
  },
  {
   "cell_type": "markdown",
   "id": "d8bb8dd0",
   "metadata": {},
   "source": [
    "**Train-test split**"
   ]
  },
  {
   "cell_type": "code",
   "execution_count": 7,
   "id": "b6b07b1d",
   "metadata": {},
   "outputs": [],
   "source": [
    "from sklearn.model_selection import train_test_split"
   ]
  },
  {
   "cell_type": "code",
   "execution_count": 8,
   "id": "55cb2732",
   "metadata": {},
   "outputs": [],
   "source": [
    "X = list(cleared_data.iloc[:, 0])\n",
    "y = list(cleared_data.iloc[:, 1])"
   ]
  },
  {
   "cell_type": "code",
   "execution_count": 9,
   "id": "a34753f9",
   "metadata": {},
   "outputs": [],
   "source": [
    "X_train, X_test, y_train, y_test = train_test_split(X, y, test_size=0.2, random_state=0)"
   ]
  },
  {
   "cell_type": "code",
   "execution_count": 10,
   "id": "b9a5a2f8",
   "metadata": {},
   "outputs": [],
   "source": [
    "X_train = np.array(X_train)\n",
    "X_test = np.array(X_test)\n",
    "y_train = np.array(y_train)\n",
    "y_test = np.array(y_test)"
   ]
  },
  {
   "cell_type": "markdown",
   "id": "89470c13",
   "metadata": {},
   "source": [
    "**Create tf-idf vectorizer**"
   ]
  },
  {
   "cell_type": "code",
   "execution_count": 11,
   "id": "5d2a2099",
   "metadata": {},
   "outputs": [],
   "source": [
    "from sklearn.feature_extraction.text import TfidfVectorizer"
   ]
  },
  {
   "cell_type": "code",
   "execution_count": 12,
   "id": "19702285",
   "metadata": {},
   "outputs": [],
   "source": [
    "vectorizer = TfidfVectorizer(min_df=10, ngram_range=(1, 3))\n",
    "X_train = vectorizer.fit_transform(X_train)\n",
    "X_test = vectorizer.transform(X_test)"
   ]
  },
  {
   "cell_type": "code",
   "execution_count": 13,
   "id": "0663ecb3",
   "metadata": {},
   "outputs": [
    {
     "data": {
      "text/plain": [
       "<47911x9347 sparse matrix of type '<class 'numpy.float64'>'\n",
       "\twith 558895 stored elements in Compressed Sparse Row format>"
      ]
     },
     "execution_count": 13,
     "metadata": {},
     "output_type": "execute_result"
    }
   ],
   "source": [
    "X_train"
   ]
  },
  {
   "cell_type": "code",
   "execution_count": 14,
   "id": "9e9eefc1",
   "metadata": {},
   "outputs": [
    {
     "data": {
      "text/plain": [
       "<11978x9347 sparse matrix of type '<class 'numpy.float64'>'\n",
       "\twith 139245 stored elements in Compressed Sparse Row format>"
      ]
     },
     "execution_count": 14,
     "metadata": {},
     "output_type": "execute_result"
    }
   ],
   "source": [
    "X_test"
   ]
  },
  {
   "cell_type": "code",
   "execution_count": 15,
   "id": "f5ed2d83",
   "metadata": {},
   "outputs": [],
   "source": [
    "X_train_part, _, y_train_part, __ = train_test_split(X_train, y_train, test_size=0.5, random_state=0)"
   ]
  },
  {
   "cell_type": "markdown",
   "id": "cadad2da",
   "metadata": {},
   "source": [
    "# Model"
   ]
  },
  {
   "cell_type": "code",
   "execution_count": 16,
   "id": "ae4bb27d",
   "metadata": {},
   "outputs": [],
   "source": [
    "import seaborn as sns\n",
    "import xgboost as xgb\n",
    "import optuna\n",
    "import random\n",
    "\n",
    "from sklearn.metrics import precision_recall_fscore_support\n",
    "from sklearn.metrics import accuracy_score, balanced_accuracy_score\n",
    "from sklearn.metrics import confusion_matrix"
   ]
  },
  {
   "cell_type": "code",
   "execution_count": 17,
   "id": "eebd4fe1",
   "metadata": {},
   "outputs": [],
   "source": [
    "import warnings\n",
    "warnings.filterwarnings('ignore')"
   ]
  },
  {
   "cell_type": "code",
   "execution_count": 18,
   "id": "9f68cd15",
   "metadata": {},
   "outputs": [],
   "source": [
    "optuna.logging.set_verbosity(optuna.logging.WARNING)"
   ]
  },
  {
   "cell_type": "markdown",
   "id": "d0f8a519",
   "metadata": {},
   "source": [
    "**Selection of hyperparameters**"
   ]
  },
  {
   "cell_type": "code",
   "execution_count": 19,
   "id": "d28d84d8",
   "metadata": {},
   "outputs": [],
   "source": [
    "def objective(trial):\n",
    "    params = {\n",
    "        'max_depth': trial.suggest_int('max_depth', 1, 9),\n",
    "        'learning_rate': trial.suggest_loguniform('learning_rate', 0.01, 1.0),\n",
    "        'n_estimators': trial.suggest_int('n_estimators', 50, 500),\n",
    "        'min_child_weight': trial.suggest_int('min_child_weight', 1, 10),\n",
    "        'gamma': trial.suggest_loguniform('gamma', 1e-8, 1.0),\n",
    "        'subsample': trial.suggest_loguniform('subsample', 0.01, 1.0),\n",
    "        'colsample_bytree': trial.suggest_loguniform('colsample_bytree', 0.01, 1.0),\n",
    "        'reg_alpha': trial.suggest_loguniform('reg_alpha', 1e-8, 1.0),\n",
    "        'reg_lambda': trial.suggest_loguniform('reg_lambda', 1e-8, 1.0),\n",
    "        \"num_parallel_tree\": 1,\n",
    "        'eval_metric': 'mlogloss',\n",
    "        \"tree_method\": \"gpu_hist\",\n",
    "        \"n_jobs\": 2\n",
    "    }\n",
    "\n",
    "    optuna_model = xgb.XGBClassifier(**params)\n",
    "    optuna_model.fit(X_train_part, y_train_part)\n",
    "    y_pred = optuna_model.predict(X_test[:1000])\n",
    "    balanced_accuracy = balanced_accuracy_score(y_test[:1000], y_pred)\n",
    "    return balanced_accuracy"
   ]
  },
  {
   "cell_type": "code",
   "execution_count": 20,
   "id": "0c978950",
   "metadata": {},
   "outputs": [],
   "source": [
    "study = optuna.create_study(direction='maximize')"
   ]
  },
  {
   "cell_type": "code",
   "execution_count": 21,
   "id": "49f8cde7",
   "metadata": {},
   "outputs": [
    {
     "data": {
      "application/vnd.jupyter.widget-view+json": {
       "model_id": "a47ff726216549a79d51a3d93de27e55",
       "version_major": 2,
       "version_minor": 0
      },
      "text/plain": [
       "  0%|          | 0/50 [00:00<?, ?it/s]"
      ]
     },
     "metadata": {},
     "output_type": "display_data"
    }
   ],
   "source": [
    "study.optimize(objective, n_trials=50, n_jobs=-1, show_progress_bar=True)"
   ]
  },
  {
   "cell_type": "code",
   "execution_count": 22,
   "id": "ae673c6d",
   "metadata": {},
   "outputs": [
    {
     "name": "stdout",
     "output_type": "stream",
     "text": [
      "Number of finished trials: 50\n",
      "Best trial:\n",
      "  Value: 0.7330341264833746\n",
      "  Params: \n",
      "    max_depth: 3\n",
      "    learning_rate: 0.11895150329785813\n",
      "    n_estimators: 459\n",
      "    min_child_weight: 2\n",
      "    gamma: 0.033562702124315\n",
      "    subsample: 0.6574962096875409\n",
      "    colsample_bytree: 0.4920812672099111\n",
      "    reg_alpha: 0.0002078913371919044\n",
      "    reg_lambda: 1.5139911948504841e-07\n"
     ]
    }
   ],
   "source": [
    "print('Number of finished trials: {}'.format(len(study.trials)))\n",
    "print('Best trial:')\n",
    "trial = study.best_trial\n",
    "\n",
    "print('  Value: {}'.format(trial.value))\n",
    "print('  Params: ')\n",
    "\n",
    "for key, value in trial.params.items():\n",
    "    print('    {}: {}'.format(key, value))"
   ]
  },
  {
   "cell_type": "code",
   "execution_count": 23,
   "id": "33b70469",
   "metadata": {},
   "outputs": [],
   "source": [
    "params = trial.params"
   ]
  },
  {
   "cell_type": "markdown",
   "id": "65f33e0d",
   "metadata": {},
   "source": [
    "**Model traning**"
   ]
  },
  {
   "cell_type": "code",
   "execution_count": 24,
   "id": "5be8f2ac",
   "metadata": {},
   "outputs": [],
   "source": [
    "model = xgb.XGBClassifier(**params)"
   ]
  },
  {
   "cell_type": "code",
   "execution_count": 25,
   "id": "e2ae4ec9",
   "metadata": {},
   "outputs": [
    {
     "name": "stdout",
     "output_type": "stream",
     "text": [
      "CPU times: total: 7min 27s\n",
      "Wall time: 38.2 s\n"
     ]
    },
    {
     "data": {
      "text/html": [
       "<style>#sk-container-id-1 {color: black;background-color: white;}#sk-container-id-1 pre{padding: 0;}#sk-container-id-1 div.sk-toggleable {background-color: white;}#sk-container-id-1 label.sk-toggleable__label {cursor: pointer;display: block;width: 100%;margin-bottom: 0;padding: 0.3em;box-sizing: border-box;text-align: center;}#sk-container-id-1 label.sk-toggleable__label-arrow:before {content: \"▸\";float: left;margin-right: 0.25em;color: #696969;}#sk-container-id-1 label.sk-toggleable__label-arrow:hover:before {color: black;}#sk-container-id-1 div.sk-estimator:hover label.sk-toggleable__label-arrow:before {color: black;}#sk-container-id-1 div.sk-toggleable__content {max-height: 0;max-width: 0;overflow: hidden;text-align: left;background-color: #f0f8ff;}#sk-container-id-1 div.sk-toggleable__content pre {margin: 0.2em;color: black;border-radius: 0.25em;background-color: #f0f8ff;}#sk-container-id-1 input.sk-toggleable__control:checked~div.sk-toggleable__content {max-height: 200px;max-width: 100%;overflow: auto;}#sk-container-id-1 input.sk-toggleable__control:checked~label.sk-toggleable__label-arrow:before {content: \"▾\";}#sk-container-id-1 div.sk-estimator input.sk-toggleable__control:checked~label.sk-toggleable__label {background-color: #d4ebff;}#sk-container-id-1 div.sk-label input.sk-toggleable__control:checked~label.sk-toggleable__label {background-color: #d4ebff;}#sk-container-id-1 input.sk-hidden--visually {border: 0;clip: rect(1px 1px 1px 1px);clip: rect(1px, 1px, 1px, 1px);height: 1px;margin: -1px;overflow: hidden;padding: 0;position: absolute;width: 1px;}#sk-container-id-1 div.sk-estimator {font-family: monospace;background-color: #f0f8ff;border: 1px dotted black;border-radius: 0.25em;box-sizing: border-box;margin-bottom: 0.5em;}#sk-container-id-1 div.sk-estimator:hover {background-color: #d4ebff;}#sk-container-id-1 div.sk-parallel-item::after {content: \"\";width: 100%;border-bottom: 1px solid gray;flex-grow: 1;}#sk-container-id-1 div.sk-label:hover label.sk-toggleable__label {background-color: #d4ebff;}#sk-container-id-1 div.sk-serial::before {content: \"\";position: absolute;border-left: 1px solid gray;box-sizing: border-box;top: 0;bottom: 0;left: 50%;z-index: 0;}#sk-container-id-1 div.sk-serial {display: flex;flex-direction: column;align-items: center;background-color: white;padding-right: 0.2em;padding-left: 0.2em;position: relative;}#sk-container-id-1 div.sk-item {position: relative;z-index: 1;}#sk-container-id-1 div.sk-parallel {display: flex;align-items: stretch;justify-content: center;background-color: white;position: relative;}#sk-container-id-1 div.sk-item::before, #sk-container-id-1 div.sk-parallel-item::before {content: \"\";position: absolute;border-left: 1px solid gray;box-sizing: border-box;top: 0;bottom: 0;left: 50%;z-index: -1;}#sk-container-id-1 div.sk-parallel-item {display: flex;flex-direction: column;z-index: 1;position: relative;background-color: white;}#sk-container-id-1 div.sk-parallel-item:first-child::after {align-self: flex-end;width: 50%;}#sk-container-id-1 div.sk-parallel-item:last-child::after {align-self: flex-start;width: 50%;}#sk-container-id-1 div.sk-parallel-item:only-child::after {width: 0;}#sk-container-id-1 div.sk-dashed-wrapped {border: 1px dashed gray;margin: 0 0.4em 0.5em 0.4em;box-sizing: border-box;padding-bottom: 0.4em;background-color: white;}#sk-container-id-1 div.sk-label label {font-family: monospace;font-weight: bold;display: inline-block;line-height: 1.2em;}#sk-container-id-1 div.sk-label-container {text-align: center;}#sk-container-id-1 div.sk-container {/* jupyter's `normalize.less` sets `[hidden] { display: none; }` but bootstrap.min.css set `[hidden] { display: none !important; }` so we also need the `!important` here to be able to override the default hidden behavior on the sphinx rendered scikit-learn.org. See: https://github.com/scikit-learn/scikit-learn/issues/21755 */display: inline-block !important;position: relative;}#sk-container-id-1 div.sk-text-repr-fallback {display: none;}</style><div id=\"sk-container-id-1\" class=\"sk-top-container\"><div class=\"sk-text-repr-fallback\"><pre>XGBClassifier(base_score=None, booster=None, callbacks=None,\n",
       "              colsample_bylevel=None, colsample_bynode=None,\n",
       "              colsample_bytree=0.4920812672099111, early_stopping_rounds=None,\n",
       "              enable_categorical=False, eval_metric=None, feature_types=None,\n",
       "              gamma=0.033562702124315, gpu_id=None, grow_policy=None,\n",
       "              importance_type=None, interaction_constraints=None,\n",
       "              learning_rate=0.11895150329785813, max_bin=None,\n",
       "              max_cat_threshold=None, max_cat_to_onehot=None,\n",
       "              max_delta_step=None, max_depth=3, max_leaves=None,\n",
       "              min_child_weight=2, missing=nan, monotone_constraints=None,\n",
       "              n_estimators=459, n_jobs=None, num_parallel_tree=None,\n",
       "              objective=&#x27;multi:softprob&#x27;, predictor=None, ...)</pre><b>In a Jupyter environment, please rerun this cell to show the HTML representation or trust the notebook. <br />On GitHub, the HTML representation is unable to render, please try loading this page with nbviewer.org.</b></div><div class=\"sk-container\" hidden><div class=\"sk-item\"><div class=\"sk-estimator sk-toggleable\"><input class=\"sk-toggleable__control sk-hidden--visually\" id=\"sk-estimator-id-1\" type=\"checkbox\" checked><label for=\"sk-estimator-id-1\" class=\"sk-toggleable__label sk-toggleable__label-arrow\">XGBClassifier</label><div class=\"sk-toggleable__content\"><pre>XGBClassifier(base_score=None, booster=None, callbacks=None,\n",
       "              colsample_bylevel=None, colsample_bynode=None,\n",
       "              colsample_bytree=0.4920812672099111, early_stopping_rounds=None,\n",
       "              enable_categorical=False, eval_metric=None, feature_types=None,\n",
       "              gamma=0.033562702124315, gpu_id=None, grow_policy=None,\n",
       "              importance_type=None, interaction_constraints=None,\n",
       "              learning_rate=0.11895150329785813, max_bin=None,\n",
       "              max_cat_threshold=None, max_cat_to_onehot=None,\n",
       "              max_delta_step=None, max_depth=3, max_leaves=None,\n",
       "              min_child_weight=2, missing=nan, monotone_constraints=None,\n",
       "              n_estimators=459, n_jobs=None, num_parallel_tree=None,\n",
       "              objective=&#x27;multi:softprob&#x27;, predictor=None, ...)</pre></div></div></div></div></div>"
      ],
      "text/plain": [
       "XGBClassifier(base_score=None, booster=None, callbacks=None,\n",
       "              colsample_bylevel=None, colsample_bynode=None,\n",
       "              colsample_bytree=0.4920812672099111, early_stopping_rounds=None,\n",
       "              enable_categorical=False, eval_metric=None, feature_types=None,\n",
       "              gamma=0.033562702124315, gpu_id=None, grow_policy=None,\n",
       "              importance_type=None, interaction_constraints=None,\n",
       "              learning_rate=0.11895150329785813, max_bin=None,\n",
       "              max_cat_threshold=None, max_cat_to_onehot=None,\n",
       "              max_delta_step=None, max_depth=3, max_leaves=None,\n",
       "              min_child_weight=2, missing=nan, monotone_constraints=None,\n",
       "              n_estimators=459, n_jobs=None, num_parallel_tree=None,\n",
       "              objective='multi:softprob', predictor=None, ...)"
      ]
     },
     "execution_count": 25,
     "metadata": {},
     "output_type": "execute_result"
    }
   ],
   "source": [
    "%%time\n",
    "model.fit(X_train, y_train)"
   ]
  },
  {
   "cell_type": "markdown",
   "id": "001e923d",
   "metadata": {},
   "source": [
    "**Evaluation**"
   ]
  },
  {
   "cell_type": "code",
   "execution_count": 26,
   "id": "53d57bce",
   "metadata": {},
   "outputs": [],
   "source": [
    "prediction = model.predict(X_test)"
   ]
  },
  {
   "cell_type": "code",
   "execution_count": 27,
   "id": "b3dcdef4",
   "metadata": {},
   "outputs": [
    {
     "name": "stdout",
     "output_type": "stream",
     "text": [
      "Accuracy: 0.917, Balanced Accuracy: 0.766\n",
      "\n",
      "The following metrics are obtained by macro-averaging\n",
      "Precision: 0.881, Recall: 0.766, F1-score: 0.815\n"
     ]
    }
   ],
   "source": [
    "accuracy = accuracy_score(y_test, prediction)\n",
    "precision, recall, f1score = precision_recall_fscore_support(y_test, prediction, average=\"macro\")[:3]\n",
    "balanced_accuracy = balanced_accuracy_score(y_test, prediction)\n",
    "cm = confusion_matrix(y_test, prediction)\n",
    "print(f\"Accuracy: {accuracy:.3f}, Balanced Accuracy: {balanced_accuracy:.3f}\")\n",
    "print()\n",
    "print(\"The following metrics are obtained by macro-averaging\")\n",
    "print(f\"Precision: {precision:.3f}, Recall: {recall:.3f}, F1-score: {f1score:.3f}\")"
   ]
  },
  {
   "cell_type": "code",
   "execution_count": 28,
   "id": "b29d2bfa",
   "metadata": {},
   "outputs": [
    {
     "data": {
      "image/png": "[encoded data removed]",
      "text/plain": [
       "<Figure size 640x480 with 2 Axes>"
      ]
     },
     "metadata": {},
     "output_type": "display_data"
    }
   ],
   "source": [
    "sns.heatmap(cm, annot=True, fmt=\"g\")\n",
    "plt.ylabel(\"Prediction\", fontsize=13)\n",
    "plt.xlabel(\"Actual\", fontsize=13)\n",
    "plt.title(\"Confusion Matrix\", fontsize=17)\n",
    "plt.show()"
   ]
  }
 ],
 "metadata": {
  "kernelspec": {
   "display_name": "Python 3 (ipykernel)",
   "language": "python",
   "name": "python3"
  },
  "language_info": {
   "codemirror_mode": {
    "name": "ipython",
    "version": 3
   },
   "file_extension": ".py",
   "mimetype": "text/x-python",
   "name": "python",
   "nbconvert_exporter": "python",
   "pygments_lexer": "ipython3",
   "version": "3.10.9"
  }
 },
 "nbformat": 4,
 "nbformat_minor": 5
}
